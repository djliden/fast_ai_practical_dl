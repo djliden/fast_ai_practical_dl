{
 "cells": [
  {
   "cell_type": "code",
   "execution_count": 1,
   "metadata": {},
   "outputs": [],
   "source": [
    "# theory: 'possible control' drugs are likely placed on each plate\n",
    "# want to find out if the MOA targets are 'similar' for these drugs (same dose and time) across the multiple samples\n",
    "# and the assumption is the multiple samples are from different plates\n",
    "#\n",
    "# input data sets are in ../data\n",
    "# new data sets from this work are in data folder, below the current folder"
   ]
  },
  {
   "cell_type": "code",
   "execution_count": 2,
   "metadata": {},
   "outputs": [],
   "source": [
    "import pandas as pd\n",
    "import numpy as np"
   ]
  },
  {
   "cell_type": "code",
   "execution_count": 3,
   "metadata": {},
   "outputs": [],
   "source": [
    "# from a previous exercise, the 'possible control drugs' are\n",
    "pc_drugids = ['87d714366','9f80f3f77','8b87a7a83','5628cb3ee','d08af5d4b','292ab2c28','d50f18348','d1b47f29d']"
   ]
  },
  {
   "cell_type": "code",
   "execution_count": 4,
   "metadata": {},
   "outputs": [],
   "source": [
    "times = [24,48,72]\n",
    "doses = ['D1', 'D2']"
   ]
  },
  {
   "cell_type": "code",
   "execution_count": 5,
   "metadata": {},
   "outputs": [],
   "source": [
    "# the drug_ids are associated through an extra file provided by sponsor\n",
    "dsdf = pd.read_csv('../data/train_drug.csv')"
   ]
  },
  {
   "cell_type": "code",
   "execution_count": 6,
   "metadata": {},
   "outputs": [],
   "source": [
    "# training data\n",
    "train_df = pd.read_csv('../data/train_features.csv')\n",
    "# drop the input features - not used in this exercise.  keep just these...\n",
    "id_cols = ['sig_id', 'cp_time', 'cp_dose']\n",
    "train_df2 = train_df[id_cols].copy()"
   ]
  },
  {
   "cell_type": "code",
   "execution_count": 7,
   "metadata": {},
   "outputs": [],
   "source": [
    "# training targets\n",
    "train_targets_df = pd.read_csv('../data/train_targets_scored.csv')"
   ]
  },
  {
   "cell_type": "code",
   "execution_count": 8,
   "metadata": {},
   "outputs": [],
   "source": [
    "# train_targets_df.head()"
   ]
  },
  {
   "cell_type": "code",
   "execution_count": 9,
   "metadata": {},
   "outputs": [],
   "source": [
    "# merge the drug_ids into the training data\n",
    "train_df3 = train_df2.merge(dsdf, on='sig_id')"
   ]
  },
  {
   "cell_type": "code",
   "execution_count": 10,
   "metadata": {},
   "outputs": [],
   "source": [
    "# only retain the rows for drugs in the pc_drugids list\n",
    "train_df4 = train_df3.loc[train_df3['drug_id'].isin(pc_drugids)]"
   ]
  },
  {
   "cell_type": "code",
   "execution_count": 11,
   "metadata": {},
   "outputs": [],
   "source": [
    "# now merge the target data\n",
    "train_df5 = train_df4.merge(train_targets_df, on='sig_id')"
   ]
  },
  {
   "cell_type": "code",
   "execution_count": 12,
   "metadata": {},
   "outputs": [],
   "source": [
    "# group by drug_id, cp_time, and cp_dose\n",
    "grouped = train_df5.groupby(['drug_id', 'cp_time', 'cp_dose'])"
   ]
  },
  {
   "cell_type": "code",
   "execution_count": 13,
   "metadata": {},
   "outputs": [],
   "source": [
    "dg = grouped.get_group(('9f80f3f77', 72, 'D1'))"
   ]
  },
  {
   "cell_type": "code",
   "execution_count": 14,
   "metadata": {},
   "outputs": [
    {
     "data": {
      "text/plain": [
       "'serotonin_receptor_antagonist'"
      ]
     },
     "execution_count": 14,
     "metadata": {},
     "output_type": "execute_result"
    }
   ],
   "source": [
    "# an example column name\n",
    "dg.columns[181]"
   ]
  },
  {
   "cell_type": "code",
   "execution_count": 15,
   "metadata": {},
   "outputs": [
    {
     "data": {
      "text/plain": [
       "0.0"
      ]
     },
     "execution_count": 15,
     "metadata": {},
     "output_type": "execute_result"
    }
   ],
   "source": [
    "# this is the mean of that column for all the samples\n",
    "dg[\"11-beta-hsd1_inhibitor\"].mean()"
   ]
  },
  {
   "cell_type": "code",
   "execution_count": 16,
   "metadata": {},
   "outputs": [
    {
     "data": {
      "text/plain": [
       "0.0"
      ]
     },
     "execution_count": 16,
     "metadata": {},
     "output_type": "execute_result"
    }
   ],
   "source": [
    "# this is the mean for another (happens to be an MOA) - for the mean() to be 1.0, ALL the samples were 1.0\n",
    "dg[\"egfr_inhibitor\"].mean()"
   ]
  },
  {
   "cell_type": "code",
   "execution_count": 17,
   "metadata": {},
   "outputs": [
    {
     "data": {
      "text/plain": [
       "40"
      ]
     },
     "execution_count": 17,
     "metadata": {},
     "output_type": "execute_result"
    }
   ],
   "source": [
    "# how many rows did this drug-time-dose combo have?\n",
    "len(dg)"
   ]
  },
  {
   "cell_type": "code",
   "execution_count": 32,
   "metadata": {},
   "outputs": [],
   "source": [
    "# add this column to list of columsn to skip when calculating mean\n",
    "id_cols.append('drug_id')"
   ]
  },
  {
   "cell_type": "code",
   "execution_count": 36,
   "metadata": {},
   "outputs": [
    {
     "name": "stdout",
     "output_type": "stream",
     "text": [
      "87d714366 - 24 - D1    121 rows\n",
      "136 - 1.0 - nfkb_inhibitor\n",
      "163 - 1.0 - proteasome_inhibitor\n",
      "87d714366 - 24 - D2    114 rows\n",
      "136 - 1.0 - nfkb_inhibitor\n",
      "163 - 1.0 - proteasome_inhibitor\n",
      "87d714366 - 48 - D1    131 rows\n",
      "136 - 1.0 - nfkb_inhibitor\n",
      "163 - 1.0 - proteasome_inhibitor\n",
      "87d714366 - 48 - D2    116 rows\n",
      "136 - 1.0 - nfkb_inhibitor\n",
      "163 - 1.0 - proteasome_inhibitor\n",
      "87d714366 - 72 - D1    123 rows\n",
      "136 - 1.0 - nfkb_inhibitor\n",
      "163 - 1.0 - proteasome_inhibitor\n",
      "87d714366 - 72 - D2    113 rows\n",
      "136 - 1.0 - nfkb_inhibitor\n",
      "163 - 1.0 - proteasome_inhibitor\n",
      "9f80f3f77 - 24 - D1    41 rows\n",
      "109 - 1.0 - hmgcr_inhibitor\n",
      "9f80f3f77 - 24 - D2    38 rows\n",
      "109 - 1.0 - hmgcr_inhibitor\n",
      "9f80f3f77 - 48 - D1    45 rows\n",
      "109 - 1.0 - hmgcr_inhibitor\n",
      "9f80f3f77 - 48 - D2    41 rows\n",
      "109 - 1.0 - hmgcr_inhibitor\n",
      "9f80f3f77 - 72 - D1    40 rows\n",
      "109 - 1.0 - hmgcr_inhibitor\n",
      "9f80f3f77 - 72 - D2    41 rows\n",
      "109 - 1.0 - hmgcr_inhibitor\n",
      "8b87a7a83 - 24 - D1    34 rows\n",
      "63 - 1.0 - cdk_inhibitor\n",
      "8b87a7a83 - 24 - D2    31 rows\n",
      "63 - 1.0 - cdk_inhibitor\n",
      "8b87a7a83 - 48 - D1    36 rows\n",
      "63 - 1.0 - cdk_inhibitor\n",
      "8b87a7a83 - 48 - D2    34 rows\n",
      "63 - 1.0 - cdk_inhibitor\n",
      "8b87a7a83 - 72 - D1    34 rows\n",
      "63 - 1.0 - cdk_inhibitor\n",
      "8b87a7a83 - 72 - D2    34 rows\n",
      "63 - 1.0 - cdk_inhibitor\n",
      "5628cb3ee - 24 - D1    31 rows\n",
      "80 - 1.0 - egfr_inhibitor\n",
      "5628cb3ee - 24 - D2    31 rows\n",
      "80 - 1.0 - egfr_inhibitor\n",
      "5628cb3ee - 48 - D1    36 rows\n",
      "80 - 1.0 - egfr_inhibitor\n",
      "5628cb3ee - 48 - D2    35 rows\n",
      "80 - 1.0 - egfr_inhibitor\n",
      "5628cb3ee - 72 - D1    35 rows\n",
      "80 - 1.0 - egfr_inhibitor\n",
      "5628cb3ee - 72 - D2    34 rows\n",
      "80 - 1.0 - egfr_inhibitor\n",
      "d08af5d4b - 24 - D1    32 rows\n",
      "199 - 1.0 - tubulin_inhibitor\n",
      "d08af5d4b - 24 - D2    32 rows\n",
      "199 - 1.0 - tubulin_inhibitor\n",
      "d08af5d4b - 48 - D1    36 rows\n",
      "199 - 1.0 - tubulin_inhibitor\n",
      "d08af5d4b - 48 - D2    32 rows\n",
      "199 - 1.0 - tubulin_inhibitor\n",
      "d08af5d4b - 72 - D1    32 rows\n",
      "199 - 1.0 - tubulin_inhibitor\n",
      "d08af5d4b - 72 - D2    32 rows\n",
      "199 - 1.0 - tubulin_inhibitor\n",
      "292ab2c28 - 24 - D1    32 rows\n",
      "292ab2c28 - 24 - D2    32 rows\n",
      "292ab2c28 - 48 - D1    34 rows\n",
      "292ab2c28 - 48 - D2    32 rows\n",
      "292ab2c28 - 72 - D1    32 rows\n",
      "292ab2c28 - 72 - D2    32 rows\n",
      "d50f18348 - 24 - D1    28 rows\n",
      "89 - 1.0 - flt3_inhibitor\n",
      "119 - 1.0 - kit_inhibitor\n",
      "149 - 1.0 - pdgfr_inhibitor\n",
      "d50f18348 - 24 - D2    30 rows\n",
      "89 - 1.0 - flt3_inhibitor\n",
      "119 - 1.0 - kit_inhibitor\n",
      "149 - 1.0 - pdgfr_inhibitor\n",
      "d50f18348 - 48 - D1    35 rows\n",
      "89 - 1.0 - flt3_inhibitor\n",
      "119 - 1.0 - kit_inhibitor\n",
      "149 - 1.0 - pdgfr_inhibitor\n",
      "d50f18348 - 48 - D2    31 rows\n",
      "89 - 1.0 - flt3_inhibitor\n",
      "119 - 1.0 - kit_inhibitor\n",
      "149 - 1.0 - pdgfr_inhibitor\n",
      "d50f18348 - 72 - D1    31 rows\n",
      "89 - 1.0 - flt3_inhibitor\n",
      "119 - 1.0 - kit_inhibitor\n",
      "149 - 1.0 - pdgfr_inhibitor\n",
      "d50f18348 - 72 - D2    31 rows\n",
      "89 - 1.0 - flt3_inhibitor\n",
      "119 - 1.0 - kit_inhibitor\n",
      "149 - 1.0 - pdgfr_inhibitor\n",
      "d1b47f29d - 24 - D1    28 rows\n",
      "169 - 1.0 - raf_inhibitor\n",
      "d1b47f29d - 24 - D2    29 rows\n",
      "169 - 1.0 - raf_inhibitor\n",
      "d1b47f29d - 48 - D1    31 rows\n",
      "169 - 1.0 - raf_inhibitor\n",
      "d1b47f29d - 48 - D2    31 rows\n",
      "169 - 1.0 - raf_inhibitor\n",
      "d1b47f29d - 72 - D1    28 rows\n",
      "169 - 1.0 - raf_inhibitor\n",
      "d1b47f29d - 72 - D2    31 rows\n",
      "169 - 1.0 - raf_inhibitor\n"
     ]
    }
   ],
   "source": [
    "# go through all the possible control drug_ids, time, dose combos...\n",
    "for n in pc_drugids:\n",
    "    for t in times:\n",
    "        for d in doses:\n",
    "            # get the group from the grouped dataframe\n",
    "            dg = grouped.get_group((n,t,d))\n",
    "            # print header\n",
    "            print(f\"{n} - {t} - {d}    {len(dg)} rows\")\n",
    "            # go across all the columns that aren't id_cols\n",
    "            for i,c in enumerate([col for col in dg.columns if col not in id_cols]):\n",
    "                # calculate the mean\n",
    "                m = dg[c].mean()\n",
    "                # if the mean is greater than 0.0, then this column is an MOA\n",
    "                if(m > 0.0):\n",
    "                    # so print it\n",
    "                    print(f\"{i} - {m} - {c}\")"
   ]
  },
  {
   "cell_type": "code",
   "execution_count": null,
   "metadata": {},
   "outputs": [],
   "source": []
  }
 ],
 "metadata": {
  "kernelspec": {
   "display_name": "Python 3",
   "language": "python",
   "name": "python3"
  },
  "language_info": {
   "codemirror_mode": {
    "name": "ipython",
    "version": 3
   },
   "file_extension": ".py",
   "mimetype": "text/x-python",
   "name": "python",
   "nbconvert_exporter": "python",
   "pygments_lexer": "ipython3",
   "version": "3.6.4"
  }
 },
 "nbformat": 4,
 "nbformat_minor": 4
}
